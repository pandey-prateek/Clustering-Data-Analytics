{
  "nbformat": 4,
  "nbformat_minor": 0,
  "metadata": {
    "colab": {
      "provenance": []
    },
    "kernelspec": {
      "name": "python3",
      "display_name": "Python 3"
    },
    "language_info": {
      "name": "python"
    }
  },
  "cells": [
    {
      "cell_type": "code",
      "execution_count": null,
      "metadata": {
        "id": "I9qlfghqlfV1"
      },
      "outputs": [],
      "source": [
        "import pandas as pd\n",
        "import numpy as np\n",
        "import matplotlib.pyplot as plt\n",
        "from sklearn import preprocessing\n",
        "from sklearn.metrics import classification_report,accuracy_score\n",
        "from sklearn.decomposition import PCA"
      ]
    },
    {
      "cell_type": "code",
      "source": [
        "from google.colab import drive\n",
        "\n",
        "drive.mount('/content/gdrive/', force_remount=True)\n",
        "\n",
        "%cd '/content/gdrive/MyDrive'\n"
      ],
      "metadata": {
        "colab": {
          "base_uri": "https://localhost:8080/"
        },
        "id": "LA2CJRuDS9nN",
        "outputId": "bf32d32f-dfd2-45ad-91b9-813d9051178f"
      },
      "execution_count": null,
      "outputs": [
        {
          "output_type": "stream",
          "name": "stdout",
          "text": [
            "Mounted at /content/gdrive/\n",
            "/content/gdrive/MyDrive\n"
          ]
        }
      ]
    },
    {
      "cell_type": "code",
      "source": [
        "data_train=pd.read_csv(\"./Dataset/Dataset1/football_data.csv\")"
      ],
      "metadata": {
        "id": "A3UiGFQ6UQ4R"
      },
      "execution_count": null,
      "outputs": []
    },
    {
      "cell_type": "code",
      "source": [
        "data_train.columns"
      ],
      "metadata": {
        "colab": {
          "base_uri": "https://localhost:8080/"
        },
        "id": "QJ5jwJUZjvj_",
        "outputId": "1fb80cab-cfc2-4805-c276-d0110c5d5b0f"
      },
      "execution_count": null,
      "outputs": [
        {
          "output_type": "execute_result",
          "data": {
            "text/plain": [
              "Index(['Unnamed: 0', 'ID', 'Name', 'Age', 'Nationality', 'Overall',\n",
              "       'Potential', 'Club', 'Value', 'Wage', 'Special', 'Preferred Foot',\n",
              "       'International Reputation', 'Weak Foot', 'Skill Moves', 'Work Rate',\n",
              "       'Body Type', 'Real Face', 'Position', 'Jersey Number', 'Joined',\n",
              "       'Loaned From', 'Contract Valid Until', 'Height', 'Weight', 'Crossing',\n",
              "       'Finishing', 'HeadingAccuracy', 'ShortPassing', 'Volleys', 'Dribbling',\n",
              "       'Curve', 'FKAccuracy', 'LongPassing', 'BallControl', 'Acceleration',\n",
              "       'SprintSpeed', 'Agility', 'Reactions', 'Balance', 'ShotPower',\n",
              "       'Jumping', 'Stamina', 'Strength', 'LongShots', 'Aggression',\n",
              "       'Interceptions', 'Positioning', 'Vision', 'Penalties', 'Composure',\n",
              "       'Marking', 'StandingTackle', 'SlidingTackle', 'GKDiving', 'GKHandling',\n",
              "       'GKKicking', 'GKPositioning', 'GKReflexes', 'Release Clause',\n",
              "       'Unnamed: 60'],\n",
              "      dtype='object')"
            ]
          },
          "metadata": {},
          "execution_count": 4
        }
      ]
    },
    {
      "cell_type": "code",
      "source": [
        "pd.unique(data_train['Wage'])"
      ],
      "metadata": {
        "id": "1Tqju3N5Uphs",
        "colab": {
          "base_uri": "https://localhost:8080/"
        },
        "outputId": "8310ff5c-03eb-4504-a72b-397aec747183"
      },
      "execution_count": null,
      "outputs": [
        {
          "output_type": "execute_result",
          "data": {
            "text/plain": [
              "array(['€565K', '€405K', '€290K', '€260K', '€355K', '€340K', '€420K',\n",
              "       '€455K', '€380K', '€94K', '€205K', '€125K', '€285K', '€225K',\n",
              "       '€145K', '€240K', '€315K', '€200K', '€130K', '€300K', '€215K',\n",
              "       '€100K', '€255K', '€165K', '€265K', '€160K', '€150K', '€245K',\n",
              "       '€110K', '€77K', '€115K', '€210K', '€195K', '€230K', '€250K',\n",
              "       '€135K', '€155K', '€180K', '€175K', '€190K', '€185K', '€21K',\n",
              "       '€82K', '€73K', '€92K', '€88K', '€96K', '€170K', '€66K', '€235K',\n",
              "       '€28K', '€105K', '€38K', '€81K', '€57K', '€15K', '€63K', '€22K',\n",
              "       '€84K', '€120K', '€90K', '€72K', '€93K', '€45K', '€74K', '€51K',\n",
              "       '€42K', '€31K', '€75K', '€25K', '€140K', '€41K', '€78K', '€53K',\n",
              "       '€95K', '€80K', '€43K', '€60K', '€85K', '€64K', '€67K', '€18K',\n",
              "       '€70K', '€91K', '€20K', '€49K', '€87K', '€86K', '€26K', '€29K',\n",
              "       '€55K', '€35K', '€33K', '€56K', '€30K', '€11K', '€59K', '€23K',\n",
              "       '€46K', '€39K', '€32K', '€36K', '€98K', '€54K', '€68K', '€58K',\n",
              "       '€27K', '€40K', '€44K', '€19K', '€1K', '€61K', '€50K', '€99K',\n",
              "       '€17K', '€52K', '€62K', '€12K', '€10K', '€71K', '€14K', '€76K',\n",
              "       '€48K', '€65K', '€69K', '€24K', '€34K', '€16K', '€37K', '€47K',\n",
              "       '€89K', '€0', '€97K', '€14.5M', '€79K', '€13K', '€83K', '€6K',\n",
              "       '€3K', '€9K', '€8K', '€7K', '€4K', '€2K', '€5K', '€5M', '€5.5M',\n",
              "       '€2.3M', '€875K', '€825K', '€575K', '€475K', '€525K', '€270K',\n",
              "       '€350K'], dtype=object)"
            ]
          },
          "metadata": {},
          "execution_count": 5
        }
      ]
    },
    {
      "cell_type": "code",
      "source": [
        "def func(x):\n",
        "  if x[-1]=='M':\n",
        "    return float(x[1:-1])*1000000\n",
        "  if x[-1]=='K':\n",
        "    return float(x[1:-1])*1000\n",
        "  return 0\n",
        "data_train['Wage'].apply(func)"
      ],
      "metadata": {
        "id": "8BzYCEFSZF-K",
        "colab": {
          "base_uri": "https://localhost:8080/"
        },
        "outputId": "ebaaca7f-ec9a-4b75-c359-5b89136c89a7"
      },
      "execution_count": null,
      "outputs": [
        {
          "output_type": "execute_result",
          "data": {
            "text/plain": [
              "0        565000.0\n",
              "1        405000.0\n",
              "2        290000.0\n",
              "3        260000.0\n",
              "4        355000.0\n",
              "           ...   \n",
              "18202      1000.0\n",
              "18203      1000.0\n",
              "18204      1000.0\n",
              "18205      1000.0\n",
              "18206      1000.0\n",
              "Name: Wage, Length: 18207, dtype: float64"
            ]
          },
          "metadata": {},
          "execution_count": 6
        }
      ]
    },
    {
      "cell_type": "code",
      "source": [
        "data=data_train[['Age','Overall','Skill Moves', 'Potential','Weak Foot','Wage','Finishing', 'HeadingAccuracy',\n",
        "       'ShortPassing', 'Volleys', 'Dribbling', 'Curve', 'FKAccuracy',\n",
        "       'LongPassing', 'BallControl', 'Acceleration', 'SprintSpeed', 'Agility',\n",
        "       'Reactions', 'Balance', 'ShotPower', 'Jumping', 'Stamina', 'Strength',\n",
        "       'LongShots', 'Aggression', 'Interceptions', 'Positioning', 'Vision',\n",
        "       'Penalties', 'Composure', 'Marking', 'StandingTackle', 'SlidingTackle',\n",
        "       'GKDiving', 'GKHandling', 'GKKicking', 'GKPositioning', 'GKReflexes']]"
      ],
      "metadata": {
        "id": "UD8yt4UVVkqD"
      },
      "execution_count": null,
      "outputs": []
    },
    {
      "cell_type": "code",
      "source": [
        "\n",
        "std=preprocessing.StandardScaler()\n",
        "def func(x):\n",
        "  if x[-1]=='M':\n",
        "    return float(x[1:-1])*1000000\n",
        "  if x[-1]=='K':\n",
        "    return float(x[1:-1])*1000\n",
        "  return 0\n",
        "data['Wage']=data['Wage'].apply(func)\n",
        "data_std=std.fit_transform(data)"
      ],
      "metadata": {
        "id": "87u7b2zkZDSJ",
        "colab": {
          "base_uri": "https://localhost:8080/"
        },
        "outputId": "0739c9b7-b558-48ec-b291-3bd97ece70cd"
      },
      "execution_count": null,
      "outputs": [
        {
          "output_type": "stream",
          "name": "stderr",
          "text": [
            "<ipython-input-8-71a83f88170e>:8: SettingWithCopyWarning: \n",
            "A value is trying to be set on a copy of a slice from a DataFrame.\n",
            "Try using .loc[row_indexer,col_indexer] = value instead\n",
            "\n",
            "See the caveats in the documentation: https://pandas.pydata.org/pandas-docs/stable/user_guide/indexing.html#returning-a-view-versus-a-copy\n",
            "  data['Wage']=data['Wage'].apply(func)\n"
          ]
        }
      ]
    },
    {
      "cell_type": "code",
      "source": [
        "data=pd.DataFrame(data_std,columns=data.columns)\n",
        "data['Position']=data_train['Position']\n",
        "data=data.dropna()\n",
        "one_hot = pd.get_dummies(data['Position'])\n",
        "data=data.join(one_hot)\n",
        "data=data.drop(['Position'],axis=1)"
      ],
      "metadata": {
        "id": "vfiyf1ySaQ4R"
      },
      "execution_count": null,
      "outputs": []
    },
    {
      "cell_type": "code",
      "source": [
        "data.shape"
      ],
      "metadata": {
        "colab": {
          "base_uri": "https://localhost:8080/"
        },
        "id": "7bzch8s1SPlU",
        "outputId": "b99f7585-8dbd-47b3-9d88-4549b3eb2eb5"
      },
      "execution_count": null,
      "outputs": [
        {
          "output_type": "execute_result",
          "data": {
            "text/plain": [
              "(18147, 67)"
            ]
          },
          "metadata": {},
          "execution_count": 10
        }
      ]
    },
    {
      "cell_type": "code",
      "source": [
        "pca = PCA(n_components=9)\n",
        "X=pca.fit_transform(data)"
      ],
      "metadata": {
        "id": "88MhFTaoY2Bu"
      },
      "execution_count": null,
      "outputs": []
    },
    {
      "cell_type": "code",
      "source": [
        "X.shape"
      ],
      "metadata": {
        "colab": {
          "base_uri": "https://localhost:8080/"
        },
        "id": "AfhCnFbcc0u3",
        "outputId": "91b4553d-fafe-4b79-ed6a-918151f2d74b"
      },
      "execution_count": null,
      "outputs": [
        {
          "output_type": "execute_result",
          "data": {
            "text/plain": [
              "(18147, 9)"
            ]
          },
          "metadata": {},
          "execution_count": 12
        }
      ]
    },
    {
      "cell_type": "code",
      "source": [
        "def preprocess(data):\n",
        "\n",
        "  encoder=preprocessing.LabelEncoder()\n",
        "  std=preprocessing.StandardScaler()\n",
        "  one_hot = pd.get_dummies(data['Work Rate'])\n",
        "\n",
        "  data=data.drop('Work Rate',axis=1)\n",
        "  data=data.join(one_hot)\n",
        "  encoder=preprocessing.LabelEncoder()\n",
        "\n",
        "  one_hot = pd.get_dummies(data['Sex'])\n",
        "  data=data.join(one_hot)\n",
        "  data=data.drop(['Sex','.'],axis=1)\n",
        "\n",
        "\n",
        "  return data"
      ],
      "metadata": {
        "id": "KyBtjIohU9sP"
      },
      "execution_count": null,
      "outputs": []
    },
    {
      "cell_type": "code",
      "source": [
        "import numpy as np\n",
        "import matplotlib.pyplot as plt\n",
        "\n",
        "def euclidean_distance(x1, x2):\n",
        "    return np.sqrt(np.sum((x1-x2)**2))\n",
        "\n",
        "class KMeans:\n",
        "\n",
        "    def __init__(self, K=5, max_iters=100, plot_steps=False):\n",
        "        self.K = K\n",
        "        self.max_iters = max_iters\n",
        "        self.plot_steps = plot_steps\n",
        "\n",
        "        self.clusters = [[] for _ in range(self.K)]\n",
        "\n",
        "        self.centroids = []\n",
        "        self.WCSS=0;\n",
        "\n",
        "    def predict(self, X):\n",
        "        self.X = X\n",
        "        self.n_samples, self.n_features = X.shape\n",
        "\n",
        "        random_sample_idxs = np.random.choice(self.n_samples, self.K, replace=False)\n",
        "        self.centroids = [self.X[idx] for idx in random_sample_idxs]\n",
        "\n",
        "        for _ in range(self.max_iters):\n",
        "            self.clusters = self._create_clusters(self.centroids)\n",
        "\n",
        "            if self.plot_steps:\n",
        "                self.plot()\n",
        "\n",
        "            centroids_old = self.centroids\n",
        "            self.centroids = self._get_centroids(self.clusters)\n",
        "\n",
        "            if self._is_converged(centroids_old, self.centroids):\n",
        "                break\n",
        "\n",
        "            if self.plot_steps:\n",
        "                self.plot()\n",
        "\n",
        "        self._get_WCSS()\n",
        "        return self._get_cluster_labels(self.clusters)\n",
        "\n",
        "\n",
        "    def _get_cluster_labels(self, clusters):\n",
        "        labels = np.empty(self.n_samples)\n",
        "        for cluster_idx, cluster in enumerate(clusters):\n",
        "            for sample_idx in cluster:\n",
        "                labels[sample_idx] = cluster_idx\n",
        "\n",
        "        return labels\n",
        "\n",
        "\n",
        "    def _create_clusters(self, centroids):\n",
        "        clusters = [[] for _ in range(self.K)]\n",
        "        for idx, sample in enumerate(self.X):\n",
        "            centroid_idx = self._closest_centroid(sample, centroids)\n",
        "            clusters[centroid_idx].append(idx)\n",
        "        return clusters\n",
        "\n",
        "    def _closest_centroid(self, sample, centroids):\n",
        "        distances = [euclidean_distance(sample, point) for point in centroids]\n",
        "        closest_idx = np.argmin(distances)\n",
        "\n",
        "        return closest_idx\n",
        "\n",
        "\n",
        "    def _get_centroids(self, clusters):\n",
        "        centroids = np.zeros((self.K, self.n_features))\n",
        "        for cluster_idx, cluster in enumerate(clusters):\n",
        "            cluster_mean = np.mean(self.X[cluster], axis=0)\n",
        "            centroids[cluster_idx] = cluster_mean\n",
        "        return centroids\n",
        "\n",
        "    def _is_converged(self, centroids_old, centroids):\n",
        "        distances = [euclidean_distance(centroids_old[i], centroids[i]) for i in range(self.K)]\n",
        "        return sum(distances) == 0\n",
        "    def _get_WCSS(self):\n",
        "        for idx,clust in enumerate(self.clusters):\n",
        "            point=self.centroids[idx];\n",
        "            for points in clust:\n",
        "              self.WCSS+=euclidean_distance(point, self.X[points])**2\n",
        "    def plot(self):\n",
        "        fig, ax = plt.subplots(figsize=(12, 8))\n",
        "\n",
        "        for i, index in enumerate(self.clusters):\n",
        "            point = self.X[index].T\n",
        "            ax.scatter(*point)\n",
        "\n",
        "        for point in self.centroids:\n",
        "            ax.scatter(*point, marker=\"x\", color=\"black\", linewidth=2)\n",
        "\n",
        "        plt.show()\n",
        "\n"
      ],
      "metadata": {
        "id": "km-NmDxiloqx"
      },
      "execution_count": null,
      "outputs": []
    },
    {
      "cell_type": "code",
      "source": [
        "k_values=[1,3,5,7,9,11,13]\n",
        "wcss=[]\n",
        "for i in k_values:\n",
        "  clust=KMeans(K=i)\n",
        "  clust.predict(X)\n",
        "  wcss.append(clust.WCSS)\n"
      ],
      "metadata": {
        "id": "nu-oO6Csc-HI"
      },
      "execution_count": null,
      "outputs": []
    },
    {
      "cell_type": "code",
      "source": [
        "fig, ax = plt.subplots(figsize=(12, 8))\n",
        "ax.plot(k_values,wcss)\n",
        "plt.show()"
      ],
      "metadata": {
        "colab": {
          "base_uri": "https://localhost:8080/",
          "height": 676
        },
        "id": "3D0MMbetTFel",
        "outputId": "07e40bf6-92ee-458f-b4ad-5347c6c169a0"
      },
      "execution_count": null,
      "outputs": [
        {
          "output_type": "display_data",
          "data": {
            "text/plain": [
              "<Figure size 1200x800 with 1 Axes>"
            ],
            "image/png": "[encoded data removed]"
          },
          "metadata": {}
        }
      ]
    },
    {
      "cell_type": "code",
      "source": [
        "from sklearn import metrics\n",
        "k_values=[3,5,7,9,11,13]\n",
        "score=[]\n",
        "for i in k_values:\n",
        "  clust=KMeans(K=i)\n",
        "  labels=clust.predict(X)\n",
        "  score.append(metrics.silhouette_score(X,labels,metric='euclidean'))"
      ],
      "metadata": {
        "id": "9aNKoGWIT1x8"
      },
      "execution_count": 17,
      "outputs": []
    },
    {
      "cell_type": "code",
      "source": [
        "fig, ax = plt.subplots(figsize=(12, 8))\n",
        "ax.plot(k_values,score)\n",
        "plt.show()"
      ],
      "metadata": {
        "id": "wbVbV9QVaKH-",
        "colab": {
          "base_uri": "https://localhost:8080/",
          "height": 676
        },
        "outputId": "3586a972-9969-4608-f26a-77c0dd8932f7"
      },
      "execution_count": 18,
      "outputs": [
        {
          "output_type": "display_data",
          "data": {
            "text/plain": [
              "<Figure size 1200x800 with 1 Axes>"
            ],
            "image/png": "[encoded data removed]"
          },
          "metadata": {}
        }
      ]
    },
    {
      "cell_type": "markdown",
      "source": [
        "As we can see for k=5 we get optimal clustering"
      ],
      "metadata": {
        "id": "zKxN4vxRVXZR"
      }
    }
  ]
}